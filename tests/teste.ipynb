{
 "cells": [
  {
   "cell_type": "code",
   "execution_count": 3,
   "metadata": {},
   "outputs": [
    {
     "name": "stderr",
     "output_type": "stream",
     "text": [
      "/home/gui/Área de Trabalho/rlenvs/.venv/lib/python3.9/site-packages/gymnasium/utils/passive_env_checker.py:167: DeprecationWarning: \u001b[33mWARN: Current gymnasium version requires that `Env.reset` can be passed a `seed` instead of using `Env.seed` for resetting the environment random number generator.\u001b[0m\n",
      "  logger.deprecation(\n",
      "/home/gui/Área de Trabalho/rlenvs/.venv/lib/python3.9/site-packages/gymnasium/utils/passive_env_checker.py:180: DeprecationWarning: \u001b[33mWARN: Current gymnasium version requires that `Env.reset` can be passed `options` to allow the environment initialisation to be passed additional information.\u001b[0m\n",
      "  logger.deprecation(\n"
     ]
    },
    {
     "data": {
      "text/plain": [
       "array([ 0.     ,  0.19512, -0.01756,  0.29268], dtype=float32)"
      ]
     },
     "execution_count": 3,
     "metadata": {},
     "output_type": "execute_result"
    }
   ],
   "source": [
    "import gymnasium as gym\n",
    "import rlenvs\n",
    "\n",
    "# env = gym.make(\"CartPole-v1\")\n",
    "env = gym.make(\"custom/DiscreteCartPole-v1\")\n",
    "\n",
    "observation, info = env.reset(seed=82, options={\"sizes\":(1, 20, 20, 20)})\n",
    "observation"
   ]
  },
  {
   "cell_type": "code",
   "execution_count": 4,
   "metadata": {},
   "outputs": [
    {
     "name": "stdout",
     "output_type": "stream",
     "text": [
      "1480\n",
      "[ 0.       0.39024 -0.00585  0.58537]\n"
     ]
    }
   ],
   "source": [
    "import numpy as np\n",
    "from rlenvs import DiscreteCartPole\n",
    "\n",
    "obj = DiscreteCartPole()\n",
    "\n",
    "_, values = obj.discretize(observation)\n",
    "print(obj.enumerate_state(observation))\n",
    "print(np.array(values, dtype=np.float32))\n"
   ]
  },
  {
   "cell_type": "code",
   "execution_count": 41,
   "metadata": {},
   "outputs": [
    {
     "name": "stdout",
     "output_type": "stream",
     "text": [
      "[ 0.          1.5        -0.         -0.16666667] False\n",
      "2216\n",
      "[ 0.          1.5         0.00428571 -0.16666667]\n"
     ]
    }
   ],
   "source": [
    "observation,reward, terminated, truncated, info = env.step(1)\n",
    "\n",
    "_, values = obj.discretize(observation)\n",
    "print(observation, terminated)\n",
    "print(obj.enumerate_state(observation))\n",
    "print(np.array(values, dtype=np.float32))"
   ]
  },
  {
   "cell_type": "code",
   "execution_count": 339,
   "metadata": {},
   "outputs": [
    {
     "data": {
      "text/plain": [
       "[array([], dtype=float64),\n",
       " array([-1.5       , -1.10204082, -0.76530612, -0.48979592, -0.2755102 ,\n",
       "        -0.12244898, -0.03061224, -0.        ,  0.03061224,  0.12244898,\n",
       "         0.2755102 ,  0.48979592,  0.76530612,  1.10204082,  1.5       ]),\n",
       " array([-0.21      , -0.15428571, -0.10714286, -0.06857143, -0.03857143,\n",
       "        -0.01714286, -0.00428571, -0.        ,  0.00428571,  0.01714286,\n",
       "         0.03857143,  0.06857143,  0.10714286,  0.15428571,  0.21      ]),\n",
       " array([-1.5       , -0.66666667, -0.16666667, -0.        ,  0.16666667,\n",
       "         0.66666667,  1.5       ])]"
      ]
     },
     "execution_count": 339,
     "metadata": {},
     "output_type": "execute_result"
    }
   ],
   "source": [
    "obj.factor_spaces"
   ]
  },
  {
   "cell_type": "code",
   "execution_count": 5,
   "metadata": {},
   "outputs": [
    {
     "data": {
      "text/plain": [
       "array([-1.8, -0.8, -0.2, -0. ,  0.2,  0.8,  1.8])"
      ]
     },
     "execution_count": 5,
     "metadata": {},
     "output_type": "execute_result"
    }
   ],
   "source": [
    "np.concatenate([-np.linspace(0, 1.8**.5, (9//2))[::-1]**2, np.linspace(0, 1.8**.5, (9//2))[1:]**2])"
   ]
  },
  {
   "cell_type": "code",
   "execution_count": null,
   "metadata": {},
   "outputs": [],
   "source": []
  },
  {
   "cell_type": "code",
   "execution_count": null,
   "metadata": {},
   "outputs": [],
   "source": []
  },
  {
   "cell_type": "code",
   "execution_count": 1,
   "metadata": {},
   "outputs": [
    {
     "data": {
      "text/plain": [
       "array([ 0.04976388,  0.03547879, -0.02823136,  0.04801454], dtype=float32)"
      ]
     },
     "execution_count": 1,
     "metadata": {},
     "output_type": "execute_result"
    }
   ],
   "source": [
    "import gymnasium as gym\n",
    "import rlenvs\n",
    "\n",
    "n=500\n",
    "\n",
    "# env = gym.make(\"custom/DiscreteCartPole-v1\", render_mode=\"human\")\n",
    "# env = gym.make(\"custom/DiscreteCartPole-v1\")\n",
    "env = gym.make(\"custom/CartPole-v1\")\n",
    "# env = gym.make(\"CartPole-v1\")\n",
    "\n",
    "# observation, info = env.reset(seed=82)\n",
    "observation, info = env.reset(seed=82, options={\"masspole\":.45, \"length\":1.0})\n",
    "observation"
   ]
  },
  {
   "cell_type": "code",
   "execution_count": 4,
   "metadata": {},
   "outputs": [
    {
     "name": "stderr",
     "output_type": "stream",
     "text": [
      "/home/gui/Área de Trabalho/rlenvs/.venv/lib/python3.9/site-packages/gymnasium/core.py:311: UserWarning: \u001b[33mWARN: env.state to get variables from other wrappers is deprecated and will be removed in v1.0, to get this variable you can do `env.unwrapped.state` for environment variables or `env.get_wrapper_attr('state')` that will search the reminding wrappers.\u001b[0m\n",
      "  logger.warn(\n"
     ]
    },
    {
     "data": {
      "text/plain": [
       "array([ 0.        ,  0.07777778, -0.02333333,  1.2       ], dtype=float32)"
      ]
     },
     "execution_count": 4,
     "metadata": {},
     "output_type": "execute_result"
    }
   ],
   "source": [
    "env.state"
   ]
  },
  {
   "cell_type": "code",
   "execution_count": 5,
   "metadata": {},
   "outputs": [
    {
     "name": "stderr",
     "output_type": "stream",
     "text": [
      "/home/gui/Área de Trabalho/rlenvs/.venv/lib/python3.9/site-packages/gymnasium/core.py:311: UserWarning: \u001b[33mWARN: env.enumerated_state to get variables from other wrappers is deprecated and will be removed in v1.0, to get this variable you can do `env.unwrapped.enumerated_state` for environment variables or `env.get_wrapper_attr('enumerated_state')` that will search the reminding wrappers.\u001b[0m\n",
      "  logger.warn(\n"
     ]
    },
    {
     "data": {
      "text/plain": [
       "1090"
      ]
     },
     "execution_count": 5,
     "metadata": {},
     "output_type": "execute_result"
    }
   ],
   "source": [
    "env.enumerated_state"
   ]
  },
  {
   "cell_type": "code",
   "execution_count": null,
   "metadata": {},
   "outputs": [],
   "source": []
  }
 ],
 "metadata": {
  "kernelspec": {
   "display_name": ".venv",
   "language": "python",
   "name": "python3"
  },
  "language_info": {
   "codemirror_mode": {
    "name": "ipython",
    "version": 3
   },
   "file_extension": ".py",
   "mimetype": "text/x-python",
   "name": "python",
   "nbconvert_exporter": "python",
   "pygments_lexer": "ipython3",
   "version": "3.9.19"
  }
 },
 "nbformat": 4,
 "nbformat_minor": 2
}
