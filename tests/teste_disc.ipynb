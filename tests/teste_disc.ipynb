{
 "cells": [
  {
   "cell_type": "code",
   "execution_count": 1,
   "metadata": {},
   "outputs": [
    {
     "name": "stderr",
     "output_type": "stream",
     "text": [
      "/home/gui/Área de Trabalho/rlenvs/.venv/lib/python3.9/site-packages/gymnasium/utils/passive_env_checker.py:167: DeprecationWarning: \u001b[33mWARN: Current gymnasium version requires that `Env.reset` can be passed a `seed` instead of using `Env.seed` for resetting the environment random number generator.\u001b[0m\n",
      "  logger.deprecation(\n",
      "/home/gui/Área de Trabalho/rlenvs/.venv/lib/python3.9/site-packages/gymnasium/utils/passive_env_checker.py:180: DeprecationWarning: \u001b[33mWARN: Current gymnasium version requires that `Env.reset` can be passed `options` to allow the environment initialisation to be passed additional information.\u001b[0m\n",
      "  logger.deprecation(\n"
     ]
    }
   ],
   "source": [
    "import gymnasium as gym\n",
    "import rlenvs\n",
    "import numpy as np\n",
    "from rlenvs import DiscreteCartPole\n",
    "from functools import reduce\n",
    "\n",
    "\n",
    "# env = gym.make(\"CartPole-v1\")\n",
    "# env = gym.make(\"custom/CartPole-v1\")\n",
    "env = gym.make(\"custom/DiscreteCartPole-v1\")\n",
    "\n",
    "# observation, info = env.reset(seed=82)\n",
    "# observation, info = env.reset(seed=82, options={\"sizes\":(1, 20, 20, 20)})\n",
    "observation, info = env.reset(seed=82, options={'masspole':.45, 'length':1.0, \"sizes\":(1, 20, 20, 20)})"
   ]
  },
  {
   "cell_type": "code",
   "execution_count": 4,
   "metadata": {},
   "outputs": [
    {
     "name": "stdout",
     "output_type": "stream",
     "text": [
      "[ 0.       0.      -0.02102 -0.14798]\n",
      "(array([ 0.     ,  0.     , -0.02102, -0.34092], dtype=float32), 1.0, False, False, {})\n",
      "[0.0, 0.19541, -0.02784, -0.64016]\n",
      "(1, -0.61267)\n"
     ]
    }
   ],
   "source": [
    "print(env.unwrapped.state)\n",
    "print(env.step(1))\n",
    "print([round(float(v), 5) for v in  apply_step(env.unwrapped.state)])\n",
    "print(env.unwrapped.discretizer.__locate_in_space__(3, apply_step(env.unwrapped.state)[3]))\n",
    "# print(np.array(obj.discretize(my_step(env.unwrapped.state))[1], dtype=np.float32))"
   ]
  },
  {
   "cell_type": "code",
   "execution_count": 8,
   "metadata": {},
   "outputs": [
    {
     "data": {
      "text/plain": [
       "[-0.09834,\n",
       " -0.07621,\n",
       " -0.05698,\n",
       " -0.0406,\n",
       " -0.02702,\n",
       " -0.01619,\n",
       " -0.00809,\n",
       " -0.0027,\n",
       " 0,\n",
       " 0.0027,\n",
       " 0.00809,\n",
       " 0.01619,\n",
       " 0.02702,\n",
       " 0.0406,\n",
       " 0.05698,\n",
       " 0.07621,\n",
       " 0.09834]"
      ]
     },
     "execution_count": 8,
     "metadata": {},
     "output_type": "execute_result"
    }
   ],
   "source": [
    "env.unwrapped.discretizer.factor_spaces[2]"
   ]
  },
  {
   "cell_type": "code",
   "execution_count": 3,
   "metadata": {},
   "outputs": [],
   "source": [
    "def apply_step(state, action=1):    \n",
    "    gravity = 9.8\n",
    "    masscart = 1.0\n",
    "    masspole = 0.1\n",
    "    total_mass = masspole + masscart\n",
    "    length = 0.5  # actually half the pole's length\n",
    "    polemass_length = masspole * length\n",
    "    force_mag = 10.0\n",
    "    tau = 0.02  # seconds between state updates\n",
    "\n",
    "    x, x_dot, theta, theta_dot = state\n",
    "    force = force_mag if action == 1 else -force_mag\n",
    "    costheta = np.cos(theta)\n",
    "    sintheta = np.sin(theta)\n",
    "\n",
    "    temp = (\n",
    "        force + polemass_length * np.square(theta_dot) * sintheta\n",
    "    ) / total_mass\n",
    "    thetaacc = (gravity * sintheta - costheta * temp) / (\n",
    "        length\n",
    "        * (4.0 / 3.0 - masspole * np.square(costheta) / total_mass)\n",
    "    )\n",
    "    xacc = temp - polemass_length * thetaacc * costheta / total_mass\n",
    "\n",
    "    x = x + tau * x_dot\n",
    "    x_dot = x_dot + tau * xacc\n",
    "    theta = theta + tau * theta_dot\n",
    "    theta_dot = theta_dot + tau * thetaacc\n",
    "\n",
    "\n",
    "    return np.array((x, x_dot, theta, theta_dot), dtype=np.float32)"
   ]
  },
  {
   "cell_type": "code",
   "execution_count": 104,
   "metadata": {},
   "outputs": [
    {
     "name": "stdout",
     "output_type": "stream",
     "text": [
      "63 [-0.21, -0.20413, -0.18617, -0.17505, -0.15916, -0.14998, -0.13587, -0.12836, -0.11577, -0.10968, -0.09839, -0.09351, -0.08333, -0.07948, -0.07023, -0.06725, -0.05879, -0.05654, -0.04875, -0.0471, -0.03985, -0.03869, -0.03189, -0.03113, -0.02468, -0.02423, -0.01804, -0.01782, -0.01182, -0.01174, -0.00585, 0.0, 0.00585, 0.01174, 0.01182, 0.01782, 0.01804, 0.02423, 0.02468, 0.03113, 0.03189, 0.03869, 0.03985, 0.0471, 0.04875, 0.05654, 0.05879, 0.06725, 0.07023, 0.07948, 0.08333, 0.09351, 0.09839, 0.10968, 0.11577, 0.12836, 0.13587, 0.14998, 0.15916, 0.17505, 0.18617, 0.20413, 0.21]\n",
      "63 [-0.89827, -0.79463, -0.7057, -0.6694, -0.62956, -0.56453, -0.55595, -0.50918, -0.46227, -0.45869, -0.42274, -0.38969, -0.37546, -0.36238, -0.34021, -0.32267, -0.30938, -0.3044, -0.30006, -0.29452, -0.29268, -0.24388, -0.19252, -0.14915, -0.11276, -0.08253, -0.05775, -0.03787, -0.02244, -0.01113, -0.00369, 0.0, 0.00369, 0.01113, 0.02244, 0.03787, 0.05775, 0.08253, 0.11276, 0.14915, 0.19252, 0.24388, 0.29268, 0.29452, 0.30006, 0.3044, 0.30938, 0.32267, 0.34021, 0.36238, 0.37546, 0.38969, 0.42274, 0.45869, 0.46227, 0.50918, 0.55595, 0.56453, 0.62956, 0.6694, 0.7057, 0.79463, 0.89827]\n",
      "125 [-2.4, -2.33391, -2.25954, -2.18157, -2.10743, -2.03715, -1.96349, -1.89381, -1.82819, -1.75943, -1.6949, -1.6347, -1.57156, -1.51292, -1.45887, -1.40185, -1.34941, -1.30149, -1.25016, -1.20299, -1.15973, -1.11233, -1.0683, -1.02737, -0.98181, -0.93906, -0.89901, -0.85432, -0.81235, -0.77317, -0.72957, -0.68895, -0.65141, -0.60973, -0.57135, -0.53639, -0.49748, -0.46216, -0.43052, -0.39503, -0.36332, -0.33545, -0.30376, -0.27596, -0.25207, -0.22437, -0.20059, -0.18075, -0.15707, -0.13733, -0.12153, -0.10187, -0.08614, -0.07434, -0.05866, -0.04691, -0.03907, -0.02734, -0.01952, -0.01561, -0.00781, -0.0039, 0.0, 0.0039, 0.00781, 0.01561, 0.01952, 0.02734, 0.03907, 0.04691, 0.05866, 0.07434, 0.08614, 0.10187, 0.12153, 0.13733, 0.15707, 0.18075, 0.20059, 0.22437, 0.25207, 0.27596, 0.30376, 0.33545, 0.36332, 0.39503, 0.43052, 0.46216, 0.49748, 0.53639, 0.57135, 0.60973, 0.65141, 0.68895, 0.72957, 0.77317, 0.81235, 0.85432, 0.89901, 0.93906, 0.98181, 1.02737, 1.0683, 1.11233, 1.15973, 1.20299, 1.25016, 1.30149, 1.34941, 1.40185, 1.45887, 1.51292, 1.57156, 1.6347, 1.6949, 1.75943, 1.82819, 1.89381, 1.96349, 2.03715, 2.10743, 2.18157, 2.25954, 2.33391, 2.4]\n",
      "125 [-3.90712, -3.89853, -3.71888, -3.707, -3.68305, -3.51389, -3.48383, -3.43802, -3.28113, -3.22656, -3.1569, -3.00993, -2.93196, -2.85083, -2.70274, -2.6221, -2.56629, -2.39609, -2.37019, -2.35835, -2.27809, -2.23479, -2.20157, -2.17968, -2.16311, -2.13757, -2.09822, -2.0839, -2.04631, -2.03126, -2.00216, -1.95928, -1.94523, -1.91896, -1.8771, -1.77431, -1.76595, -1.74814, -1.58538, -1.58422, -1.58225, -1.39376, -1.39006, -1.3853, -1.19455, -1.18894, -1.18385, -0.99207, -0.987, -0.98297, -0.79007, -0.78642, -0.78381, -0.58996, -0.58779, -0.58643, -0.39189, -0.3909, -0.39041, -0.19545, -0.19521, -0.19512, 0.0, 0.19512, 0.19521, 0.19545, 0.39041, 0.3909, 0.39189, 0.58643, 0.58779, 0.58996, 0.78381, 0.78642, 0.79007, 0.98297, 0.987, 0.99207, 1.18385, 1.18894, 1.19455, 1.3853, 1.39006, 1.39376, 1.58225, 1.58422, 1.58538, 1.74814, 1.76595, 1.77431, 1.8771, 1.91896, 1.94523, 1.95928, 2.00216, 2.03126, 2.04631, 2.0839, 2.09822, 2.13757, 2.16311, 2.17968, 2.20157, 2.23479, 2.27809, 2.35835, 2.37019, 2.39609, 2.56629, 2.6221, 2.70274, 2.85083, 2.93196, 3.00993, 3.1569, 3.22656, 3.28113, 3.43802, 3.48383, 3.51389, 3.68305, 3.707, 3.71888, 3.89853, 3.90712]\n"
     ]
    }
   ],
   "source": [
    "def factor(f, l, variate=lambda x: x%2==0):\n",
    "    s = [0,0,0,0]\n",
    "    counter = 0\n",
    "    a = 1\n",
    "    v_dot = set()\n",
    "    v = set()\n",
    "    for counter in range(100):\n",
    "        if s[f]<-l or s[f]>l:\n",
    "            break\n",
    "        v_dot.add(round(float(s[f+1]), 5))\n",
    "        v.add(round(float(s[f]), 5))\n",
    "        counter+=1\n",
    "        a = int( variate(counter))\n",
    "        s = apply_step(s, a)\n",
    "\n",
    "    v_dot.update({i*-1 for i in v_dot})\n",
    "    v.update({i*-1 for i in v})\n",
    "    v_dot = sorted(v_dot)\n",
    "    v = [-l] + sorted(v) + [l]\n",
    "    return v, v_dot\n",
    "\n",
    "theta, theta_dot = factor(f=2, l=.21)\n",
    "x, x_dot = factor(f=0, l=2.4, variate=lambda x: [0, 0, 1][x%3])\n",
    "# x, x_dot = factor(f=0, l=2.4, variate=lambda x: False)\n",
    "print(len(theta), theta)\n",
    "print(len(theta_dot), theta_dot)\n",
    "print(len(x), x)\n",
    "print(len(x_dot), x_dot)"
   ]
  },
  {
   "cell_type": "code",
   "execution_count": 109,
   "metadata": {},
   "outputs": [
    {
     "data": {
      "text/plain": [
       "[[],\n",
       " [],\n",
       " [-0.21,\n",
       "  -0.20413,\n",
       "  -0.18617,\n",
       "  -0.17505,\n",
       "  -0.15916,\n",
       "  -0.14998,\n",
       "  -0.13587,\n",
       "  -0.12836,\n",
       "  -0.11577,\n",
       "  -0.10968,\n",
       "  -0.09839,\n",
       "  -0.09351,\n",
       "  -0.08333,\n",
       "  -0.07948,\n",
       "  -0.07023,\n",
       "  -0.06725,\n",
       "  -0.05879,\n",
       "  -0.05654,\n",
       "  -0.04875,\n",
       "  -0.0471,\n",
       "  -0.03985,\n",
       "  -0.03869,\n",
       "  -0.03189,\n",
       "  -0.03113,\n",
       "  -0.02468,\n",
       "  -0.02423,\n",
       "  -0.01804,\n",
       "  -0.01782,\n",
       "  -0.01182,\n",
       "  -0.01174,\n",
       "  -0.00585,\n",
       "  0.0,\n",
       "  0.00585,\n",
       "  0.01174,\n",
       "  0.01182,\n",
       "  0.01782,\n",
       "  0.01804,\n",
       "  0.02423,\n",
       "  0.02468,\n",
       "  0.03113,\n",
       "  0.03189,\n",
       "  0.03869,\n",
       "  0.03985,\n",
       "  0.0471,\n",
       "  0.04875,\n",
       "  0.05654,\n",
       "  0.05879,\n",
       "  0.06725,\n",
       "  0.07023,\n",
       "  0.07948,\n",
       "  0.08333,\n",
       "  0.09351,\n",
       "  0.09839,\n",
       "  0.10968,\n",
       "  0.11577,\n",
       "  0.12836,\n",
       "  0.13587,\n",
       "  0.14998,\n",
       "  0.15916,\n",
       "  0.17505,\n",
       "  0.18617,\n",
       "  0.20413,\n",
       "  0.21],\n",
       " [-0.89827,\n",
       "  -0.79463,\n",
       "  -0.7057,\n",
       "  -0.6694,\n",
       "  -0.62956,\n",
       "  -0.56453,\n",
       "  -0.55595,\n",
       "  -0.50918,\n",
       "  -0.46227,\n",
       "  -0.45869,\n",
       "  -0.42274,\n",
       "  -0.38969,\n",
       "  -0.37546,\n",
       "  -0.36238,\n",
       "  -0.34021,\n",
       "  -0.32267,\n",
       "  -0.30938,\n",
       "  -0.3044,\n",
       "  -0.30006,\n",
       "  -0.29452,\n",
       "  -0.29268,\n",
       "  -0.24388,\n",
       "  -0.19252,\n",
       "  -0.14915,\n",
       "  -0.11276,\n",
       "  -0.08253,\n",
       "  -0.05775,\n",
       "  -0.03787,\n",
       "  -0.02244,\n",
       "  -0.01113,\n",
       "  -0.00369,\n",
       "  0.0,\n",
       "  0.00369,\n",
       "  0.01113,\n",
       "  0.02244,\n",
       "  0.03787,\n",
       "  0.05775,\n",
       "  0.08253,\n",
       "  0.11276,\n",
       "  0.14915,\n",
       "  0.19252,\n",
       "  0.24388,\n",
       "  0.29268,\n",
       "  0.29452,\n",
       "  0.30006,\n",
       "  0.3044,\n",
       "  0.30938,\n",
       "  0.32267,\n",
       "  0.34021,\n",
       "  0.36238,\n",
       "  0.37546,\n",
       "  0.38969,\n",
       "  0.42274,\n",
       "  0.45869,\n",
       "  0.46227,\n",
       "  0.50918,\n",
       "  0.55595,\n",
       "  0.56453,\n",
       "  0.62956,\n",
       "  0.6694,\n",
       "  0.7057,\n",
       "  0.79463,\n",
       "  0.89827]]"
      ]
     },
     "execution_count": 109,
     "metadata": {},
     "output_type": "execute_result"
    }
   ],
   "source": [
    "def get_factor_limits(simplify=True):\n",
    "        # end_conditions = {0:[2.4], 2: [0.21]}\n",
    "        def factor(f, l, variate):\n",
    "                s = [0,0,0,0]\n",
    "                counter = 0\n",
    "                a = 1\n",
    "                v_dot = set()\n",
    "                v = set()\n",
    "                for counter in range(100):\n",
    "                        if s[f]<-l or s[f]>l:\n",
    "                                break\n",
    "                        v_dot.add(round(float(s[f+1]), 5))\n",
    "                        v.add(round(float(s[f]), 5))\n",
    "                        counter+=1\n",
    "                        a = int( variate(counter))\n",
    "                        s = apply_step(s, a)\n",
    "\n",
    "                v_dot.update({i*-1 for i in v_dot})\n",
    "                v.update({i*-1 for i in v})\n",
    "                v_dot = sorted(v_dot)\n",
    "                v = [-l] + sorted(v) + [l]\n",
    "                return v, v_dot\n",
    "        theta, theta_dot = factor(f=2, l=.21, variate=lambda x: x%2==0)\n",
    "        if not simplify:\n",
    "                x, x_dot = factor(f=0, l=2.4, variate=lambda x: [0, 0, 1][x%3])\n",
    "                return [x, x_dot, theta, theta_dot]\n",
    "        else:\n",
    "                return [[], [], theta, theta_dot]\n",
    "\n",
    "get_factor_limits()"
   ]
  },
  {
   "cell_type": "code",
   "execution_count": null,
   "metadata": {},
   "outputs": [],
   "source": []
  },
  {
   "cell_type": "code",
   "execution_count": 19,
   "metadata": {},
   "outputs": [
    {
     "name": "stdout",
     "output_type": "stream",
     "text": [
      "[-0.          0.07407407 -0.          0.05555556]\n",
      "[-0.          0.16666667  0.105       0.15713485]\n",
      "[0.         0.09259259 0.105      0.10157928]\n"
     ]
    }
   ],
   "source": [
    "import numpy as np\n",
    "from rlenvs import DiscreteCartPole\n",
    "\n",
    "obj = DiscreteCartPole()\n",
    "\n",
    "_, values = obj.discretize(observation)\n",
    "print(observation)\n",
    "print(np.array(values, dtype=np.float32))\n",
    "print(((observation-values)**2)**.5)\n",
    "# env.state = np.array(values, dtype=np.float64)\n",
    "# env.unwrapped.state = np.array(values, dtype=np.float64)\n"
   ]
  },
  {
   "cell_type": "code",
   "execution_count": 35,
   "metadata": {},
   "outputs": [
    {
     "name": "stdout",
     "output_type": "stream",
     "text": [
      "[-0.     1.5    0.105 -1.5  ] False\n",
      "[-0.     1.5    0.105 -1.5  ]\n",
      "[0.00000000e+00 2.22044605e-16 3.27825546e-09 2.22044605e-16]\n"
     ]
    }
   ],
   "source": [
    "observation,reward, terminated, truncated, info = env.step(1)\n",
    "_, values = obj.discretize(observation)\n",
    "print(observation, terminated)\n",
    "print(np.array(values, dtype=np.float32))\n",
    "print(((observation-values)**2)**.5)\n",
    "# env.state = np.array(values, dtype=np.float64)\n",
    "# env.state = env.unwrapped.state = np.array(values, dtype=np.float64)"
   ]
  },
  {
   "cell_type": "code",
   "execution_count": 36,
   "metadata": {},
   "outputs": [
    {
     "name": "stdout",
     "output_type": "stream",
     "text": [
      "[-0.     1.5    0.105 -1.5  ]\n",
      "[-0.     1.5    0.105 -1.5  ]\n",
      "[ 0.03       1.6937015  0.075     -1.7581388]\n",
      "[-0.     1.5    0.105 -1.5  ]\n"
     ]
    }
   ],
   "source": [
    "print(env.unwrapped.state)\n",
    "print(env.step(1)[0])\n",
    "print(my_step(env.unwrapped.state))\n",
    "print(np.array(obj.discretize(my_step(env.unwrapped.state))[1], dtype=np.float32))"
   ]
  },
  {
   "cell_type": "code",
   "execution_count": 37,
   "metadata": {},
   "outputs": [
    {
     "data": {
      "text/plain": [
       "[array([-0.]),\n",
       " array([-1.5       , -1.18518519, -0.90740741, -0.66666667, -0.46296296,\n",
       "        -0.2962963 , -0.16666667, -0.07407407, -0.01851852, -0.        ,\n",
       "         0.01851852,  0.07407407,  0.16666667,  0.2962963 ,  0.46296296,\n",
       "         0.66666667,  0.90740741,  1.18518519,  1.5       ]),\n",
       " array([-0.21 , -0.105, -0.   ,  0.105,  0.21 ]),\n",
       " array([-1.5       , -1.25707872, -1.02890329, -0.81649658, -0.62112999,\n",
       "        -0.44444444, -0.28867513, -0.15713484, -0.05555556, -0.        ,\n",
       "         0.05555556,  0.15713484,  0.28867513,  0.44444444,  0.62112999,\n",
       "         0.81649658,  1.02890329,  1.25707872,  1.5       ])]"
      ]
     },
     "execution_count": 37,
     "metadata": {},
     "output_type": "execute_result"
    }
   ],
   "source": [
    "obj.factor_spaces"
   ]
  },
  {
   "cell_type": "code",
   "execution_count": 55,
   "metadata": {},
   "outputs": [
    {
     "data": {
      "text/plain": [
       "[5, 4, 3, 2]"
      ]
     },
     "execution_count": 55,
     "metadata": {},
     "output_type": "execute_result"
    }
   ],
   "source": [
    "[1,2,3,4,5][:0:-1]"
   ]
  },
  {
   "cell_type": "code",
   "execution_count": 56,
   "metadata": {},
   "outputs": [
    {
     "data": {
      "text/plain": [
       "[(0, 0, 0, 0, 0, 0, 0, 0, 0, 0, 0),\n",
       " (0, 0, 0, 0, 0, 0, 0, 0, 0, 0, 0),\n",
       " (0, 0, 0, 0, 0, 0, 0, 0, 0, 0, 0),\n",
       " (0, 0, 0, 0, 0, 0, 0, 0, 0, 0, 0)]"
      ]
     },
     "execution_count": 56,
     "metadata": {},
     "output_type": "execute_result"
    }
   ],
   "source": [
    "def teste(n):\n",
    "    values = [[0, 0, 0, 0]]\n",
    "    for i in range((n+1)//2):\n",
    "        values.append(values[-1])\n",
    "    return list(zip(*(values+values[:0:-1])))\n",
    "\n",
    "teste(10)"
   ]
  },
  {
   "cell_type": "code",
   "execution_count": 44,
   "metadata": {},
   "outputs": [
    {
     "data": {
      "text/plain": [
       "array([ 0.        ,  0.19512194,  0.        , -0.29268292], dtype=float32)"
      ]
     },
     "execution_count": 44,
     "metadata": {},
     "output_type": "execute_result"
    }
   ],
   "source": [
    "my_step([0, 0, 0, 0], 1)"
   ]
  },
  {
   "cell_type": "code",
   "execution_count": 5,
   "metadata": {},
   "outputs": [],
   "source": [
    "def my_step(state, action=1):    \n",
    "    gravity = 9.8\n",
    "    masscart = 1.0\n",
    "    masspole = 0.1\n",
    "    total_mass = masspole + masscart\n",
    "    length = 0.5  # actually half the pole's length\n",
    "    polemass_length = masspole * length\n",
    "    force_mag = 10.0\n",
    "    tau = 0.02  # seconds between state updates\n",
    "\n",
    "    x, x_dot, theta, theta_dot = state\n",
    "    force = force_mag if action == 1 else -force_mag\n",
    "    costheta = np.cos(theta)\n",
    "    sintheta = np.sin(theta)\n",
    "\n",
    "    temp = (\n",
    "        force + polemass_length * np.square(theta_dot) * sintheta\n",
    "    ) / total_mass\n",
    "    thetaacc = (gravity * sintheta - costheta * temp) / (\n",
    "        length\n",
    "        * (4.0 / 3.0 - masspole * np.square(costheta) / total_mass)\n",
    "    )\n",
    "    xacc = temp - polemass_length * thetaacc * costheta / total_mass\n",
    "\n",
    "    x = x + tau * x_dot\n",
    "    x_dot = x_dot + tau * xacc\n",
    "    theta = theta + tau * theta_dot\n",
    "    theta_dot = theta_dot + tau * thetaacc\n",
    "\n",
    "\n",
    "    return np.array((x, x_dot, theta, theta_dot), dtype=np.float32)"
   ]
  },
  {
   "cell_type": "code",
   "execution_count": null,
   "metadata": {},
   "outputs": [],
   "source": []
  }
 ],
 "metadata": {
  "kernelspec": {
   "display_name": ".venv",
   "language": "python",
   "name": "python3"
  },
  "language_info": {
   "codemirror_mode": {
    "name": "ipython",
    "version": 3
   },
   "file_extension": ".py",
   "mimetype": "text/x-python",
   "name": "python",
   "nbconvert_exporter": "python",
   "pygments_lexer": "ipython3",
   "version": "3.9.19"
  }
 },
 "nbformat": 4,
 "nbformat_minor": 2
}
