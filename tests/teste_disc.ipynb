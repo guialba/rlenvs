{
 "cells": [
  {
   "cell_type": "code",
   "execution_count": 6,
   "metadata": {},
   "outputs": [],
   "source": [
    "import gymnasium as gym\n",
    "import rlenvs\n",
    "import numpy as np\n",
    "from rlenvs import DiscreteCartPole\n",
    "\n",
    "\n",
    "# env = gym.make(\"CartPole-v1\")\n",
    "# env = gym.make(\"custom/CartPole-v1\")\n",
    "env = gym.make(\"custom/DiscreteCartPole-v1\")\n",
    "\n",
    "# observation, info = env.reset(seed=82)\n",
    "# observation, info = env.reset(seed=82, options={\"sizes\":(1, 20, 20, 20)})\n",
    "observation, info = env.reset(seed=82, options={'masspole':.45, 'length':1.0, \"sizes\":(1, 20, 20, 20)})"
   ]
  },
  {
   "cell_type": "code",
   "execution_count": 7,
   "metadata": {},
   "outputs": [
    {
     "name": "stdout",
     "output_type": "stream",
     "text": [
      "[ 0.       0.17978 -0.02702  0.13483]\n",
      "(array([ 0.     ,  0.53948, -0.01619,  0.     ], dtype=float32), 1.0, False, False, {})\n",
      "[0.01079, 0.73483, -0.01619, -0.29775]\n",
      "(7, -0.26966)\n"
     ]
    }
   ],
   "source": [
    "print(env.unwrapped.state)\n",
    "print(env.step(1))\n",
    "print([round(float(v), 5) for v in  apply_step(env.unwrapped.state)])\n",
    "print(env.unwrapped.discretizer.__locate_in_space__(3, apply_step(env.unwrapped.state)[3]))\n",
    "# print(np.array(obj.discretize(my_step(env.unwrapped.state))[1], dtype=np.float32))"
   ]
  },
  {
   "cell_type": "code",
   "execution_count": 8,
   "metadata": {},
   "outputs": [
    {
     "data": {
      "text/plain": [
       "[-0.09834,\n",
       " -0.07621,\n",
       " -0.05698,\n",
       " -0.0406,\n",
       " -0.02702,\n",
       " -0.01619,\n",
       " -0.00809,\n",
       " -0.0027,\n",
       " 0,\n",
       " 0.0027,\n",
       " 0.00809,\n",
       " 0.01619,\n",
       " 0.02702,\n",
       " 0.0406,\n",
       " 0.05698,\n",
       " 0.07621,\n",
       " 0.09834]"
      ]
     },
     "execution_count": 8,
     "metadata": {},
     "output_type": "execute_result"
    }
   ],
   "source": [
    "env.unwrapped.discretizer.factor_spaces[2]"
   ]
  },
  {
   "cell_type": "code",
   "execution_count": 3,
   "metadata": {},
   "outputs": [],
   "source": [
    "def apply_step(state, action=1):    \n",
    "    gravity = 9.8\n",
    "    masscart = 1.0\n",
    "    masspole = 0.1\n",
    "    total_mass = masspole + masscart\n",
    "    length = 0.5  # actually half the pole's length\n",
    "    polemass_length = masspole * length\n",
    "    force_mag = 10.0\n",
    "    tau = 0.02  # seconds between state updates\n",
    "\n",
    "    x, x_dot, theta, theta_dot = state\n",
    "    force = force_mag if action == 1 else -force_mag\n",
    "    costheta = np.cos(theta)\n",
    "    sintheta = np.sin(theta)\n",
    "\n",
    "    temp = (\n",
    "        force + polemass_length * np.square(theta_dot) * sintheta\n",
    "    ) / total_mass\n",
    "    thetaacc = (gravity * sintheta - costheta * temp) / (\n",
    "        length\n",
    "        * (4.0 / 3.0 - masspole * np.square(costheta) / total_mass)\n",
    "    )\n",
    "    xacc = temp - polemass_length * thetaacc * costheta / total_mass\n",
    "\n",
    "    x = x + tau * x_dot\n",
    "    x_dot = x_dot + tau * xacc\n",
    "    theta = theta + tau * theta_dot\n",
    "    theta_dot = theta_dot + tau * thetaacc\n",
    "\n",
    "\n",
    "    return np.array((x, x_dot, theta, theta_dot), dtype=np.float32)"
   ]
  },
  {
   "cell_type": "code",
   "execution_count": 26,
   "metadata": {},
   "outputs": [
    {
     "data": {
      "text/plain": [
       "[[],\n",
       " [-0.7808, -0.58545, -0.39024, -0.19512, 0, 0.19512, 0.39024, 0.58545, 0.7808],\n",
       " [-0.00585, 0.00585],\n",
       " [-1.17804,\n",
       "  -0.87989,\n",
       "  -0.58537,\n",
       "  -0.29268,\n",
       "  0,\n",
       "  0.29268,\n",
       "  0.58537,\n",
       "  0.87989,\n",
       "  1.17804]]"
      ]
     },
     "execution_count": 26,
     "metadata": {},
     "output_type": "execute_result"
    }
   ],
   "source": [
    "factors_size = (1, 10, 3, 10)\n",
    "\n",
    "def get_factor_limits(n, f):\n",
    "        end_conditions = {2: [0.21]}\n",
    "        s = [0,0,0,0]\n",
    "        limits = end_conditions.get(f) or []\n",
    "        j = ((n-1) if n%2==0 else (n+1))//2\n",
    "        for _ in range(j):\n",
    "            s = apply_step(s)\n",
    "            v = round(float(s[f]), 5)\n",
    "            if v not in limits and n>1 and v!=0:\n",
    "                limits.append(v)\n",
    "        space = ([float(i*-1) for i in limits[::-1]]) + ([0] if n%2==0 else [])  + limits\n",
    "        return space if len(space) == 0 else (space if space[-1]>space[0] else space[::-1])\n",
    "\n",
    "[get_factor_limits(n,f) for f,n in enumerate(factors_size)]  "
   ]
  },
  {
   "cell_type": "code",
   "execution_count": null,
   "metadata": {},
   "outputs": [],
   "source": []
  },
  {
   "cell_type": "code",
   "execution_count": 19,
   "metadata": {},
   "outputs": [
    {
     "name": "stdout",
     "output_type": "stream",
     "text": [
      "[-0.          0.07407407 -0.          0.05555556]\n",
      "[-0.          0.16666667  0.105       0.15713485]\n",
      "[0.         0.09259259 0.105      0.10157928]\n"
     ]
    }
   ],
   "source": [
    "import numpy as np\n",
    "from rlenvs import DiscreteCartPole\n",
    "\n",
    "obj = DiscreteCartPole()\n",
    "\n",
    "_, values = obj.discretize(observation)\n",
    "print(observation)\n",
    "print(np.array(values, dtype=np.float32))\n",
    "print(((observation-values)**2)**.5)\n",
    "# env.state = np.array(values, dtype=np.float64)\n",
    "# env.unwrapped.state = np.array(values, dtype=np.float64)\n"
   ]
  },
  {
   "cell_type": "code",
   "execution_count": 35,
   "metadata": {},
   "outputs": [
    {
     "name": "stdout",
     "output_type": "stream",
     "text": [
      "[-0.     1.5    0.105 -1.5  ] False\n",
      "[-0.     1.5    0.105 -1.5  ]\n",
      "[0.00000000e+00 2.22044605e-16 3.27825546e-09 2.22044605e-16]\n"
     ]
    }
   ],
   "source": [
    "observation,reward, terminated, truncated, info = env.step(1)\n",
    "_, values = obj.discretize(observation)\n",
    "print(observation, terminated)\n",
    "print(np.array(values, dtype=np.float32))\n",
    "print(((observation-values)**2)**.5)\n",
    "# env.state = np.array(values, dtype=np.float64)\n",
    "# env.state = env.unwrapped.state = np.array(values, dtype=np.float64)"
   ]
  },
  {
   "cell_type": "code",
   "execution_count": 36,
   "metadata": {},
   "outputs": [
    {
     "name": "stdout",
     "output_type": "stream",
     "text": [
      "[-0.     1.5    0.105 -1.5  ]\n",
      "[-0.     1.5    0.105 -1.5  ]\n",
      "[ 0.03       1.6937015  0.075     -1.7581388]\n",
      "[-0.     1.5    0.105 -1.5  ]\n"
     ]
    }
   ],
   "source": [
    "print(env.unwrapped.state)\n",
    "print(env.step(1)[0])\n",
    "print(my_step(env.unwrapped.state))\n",
    "print(np.array(obj.discretize(my_step(env.unwrapped.state))[1], dtype=np.float32))"
   ]
  },
  {
   "cell_type": "code",
   "execution_count": 37,
   "metadata": {},
   "outputs": [
    {
     "data": {
      "text/plain": [
       "[array([-0.]),\n",
       " array([-1.5       , -1.18518519, -0.90740741, -0.66666667, -0.46296296,\n",
       "        -0.2962963 , -0.16666667, -0.07407407, -0.01851852, -0.        ,\n",
       "         0.01851852,  0.07407407,  0.16666667,  0.2962963 ,  0.46296296,\n",
       "         0.66666667,  0.90740741,  1.18518519,  1.5       ]),\n",
       " array([-0.21 , -0.105, -0.   ,  0.105,  0.21 ]),\n",
       " array([-1.5       , -1.25707872, -1.02890329, -0.81649658, -0.62112999,\n",
       "        -0.44444444, -0.28867513, -0.15713484, -0.05555556, -0.        ,\n",
       "         0.05555556,  0.15713484,  0.28867513,  0.44444444,  0.62112999,\n",
       "         0.81649658,  1.02890329,  1.25707872,  1.5       ])]"
      ]
     },
     "execution_count": 37,
     "metadata": {},
     "output_type": "execute_result"
    }
   ],
   "source": [
    "obj.factor_spaces"
   ]
  },
  {
   "cell_type": "code",
   "execution_count": 55,
   "metadata": {},
   "outputs": [
    {
     "data": {
      "text/plain": [
       "[5, 4, 3, 2]"
      ]
     },
     "execution_count": 55,
     "metadata": {},
     "output_type": "execute_result"
    }
   ],
   "source": [
    "[1,2,3,4,5][:0:-1]"
   ]
  },
  {
   "cell_type": "code",
   "execution_count": 56,
   "metadata": {},
   "outputs": [
    {
     "data": {
      "text/plain": [
       "[(0, 0, 0, 0, 0, 0, 0, 0, 0, 0, 0),\n",
       " (0, 0, 0, 0, 0, 0, 0, 0, 0, 0, 0),\n",
       " (0, 0, 0, 0, 0, 0, 0, 0, 0, 0, 0),\n",
       " (0, 0, 0, 0, 0, 0, 0, 0, 0, 0, 0)]"
      ]
     },
     "execution_count": 56,
     "metadata": {},
     "output_type": "execute_result"
    }
   ],
   "source": [
    "def teste(n):\n",
    "    values = [[0, 0, 0, 0]]\n",
    "    for i in range((n+1)//2):\n",
    "        values.append(values[-1])\n",
    "    return list(zip(*(values+values[:0:-1])))\n",
    "\n",
    "teste(10)"
   ]
  },
  {
   "cell_type": "code",
   "execution_count": 44,
   "metadata": {},
   "outputs": [
    {
     "data": {
      "text/plain": [
       "array([ 0.        ,  0.19512194,  0.        , -0.29268292], dtype=float32)"
      ]
     },
     "execution_count": 44,
     "metadata": {},
     "output_type": "execute_result"
    }
   ],
   "source": [
    "my_step([0, 0, 0, 0], 1)"
   ]
  },
  {
   "cell_type": "code",
   "execution_count": 5,
   "metadata": {},
   "outputs": [],
   "source": [
    "def my_step(state, action=1):    \n",
    "    gravity = 9.8\n",
    "    masscart = 1.0\n",
    "    masspole = 0.1\n",
    "    total_mass = masspole + masscart\n",
    "    length = 0.5  # actually half the pole's length\n",
    "    polemass_length = masspole * length\n",
    "    force_mag = 10.0\n",
    "    tau = 0.02  # seconds between state updates\n",
    "\n",
    "    x, x_dot, theta, theta_dot = state\n",
    "    force = force_mag if action == 1 else -force_mag\n",
    "    costheta = np.cos(theta)\n",
    "    sintheta = np.sin(theta)\n",
    "\n",
    "    temp = (\n",
    "        force + polemass_length * np.square(theta_dot) * sintheta\n",
    "    ) / total_mass\n",
    "    thetaacc = (gravity * sintheta - costheta * temp) / (\n",
    "        length\n",
    "        * (4.0 / 3.0 - masspole * np.square(costheta) / total_mass)\n",
    "    )\n",
    "    xacc = temp - polemass_length * thetaacc * costheta / total_mass\n",
    "\n",
    "    x = x + tau * x_dot\n",
    "    x_dot = x_dot + tau * xacc\n",
    "    theta = theta + tau * theta_dot\n",
    "    theta_dot = theta_dot + tau * thetaacc\n",
    "\n",
    "\n",
    "    return np.array((x, x_dot, theta, theta_dot), dtype=np.float32)"
   ]
  },
  {
   "cell_type": "code",
   "execution_count": null,
   "metadata": {},
   "outputs": [],
   "source": []
  }
 ],
 "metadata": {
  "kernelspec": {
   "display_name": ".venv",
   "language": "python",
   "name": "python3"
  },
  "language_info": {
   "codemirror_mode": {
    "name": "ipython",
    "version": 3
   },
   "file_extension": ".py",
   "mimetype": "text/x-python",
   "name": "python",
   "nbconvert_exporter": "python",
   "pygments_lexer": "ipython3",
   "version": "3.9.19"
  }
 },
 "nbformat": 4,
 "nbformat_minor": 2
}
