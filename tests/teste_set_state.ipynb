{
 "cells": [
  {
   "cell_type": "code",
   "execution_count": 5,
   "metadata": {},
   "outputs": [],
   "source": [
    "import gymnasium as gym\n",
    "import rlenvs\n",
    "import numpy as np\n",
    "# from rlenvs import DiscreteCartPole\n",
    "\n",
    "\n",
    "# env = gym.make(\"CartPole-v1\")\n",
    "# env = gym.make(\"custom/CartPole-v1\")\n",
    "env = gym.make(\"custom/DiscreteCartPole-v1\")\n",
    "\n",
    "# observation, info = env.reset(seed=82)\n",
    "observation, info = env.reset(seed=82, options={'masspole':.45, 'length':1.0})"
   ]
  },
  {
   "cell_type": "code",
   "execution_count": 6,
   "metadata": {},
   "outputs": [
    {
     "name": "stdout",
     "output_type": "stream",
     "text": [
      "[ 0.       0.17978 -0.01619  0.13483]\n",
      "[ 0.       0.19512 -0.00585  0.29268]\n",
      "[0.         0.01533999 0.01034    0.15785   ]\n"
     ]
    }
   ],
   "source": [
    "import numpy as np\n",
    "from rlenvs import DiscreteCartPole\n",
    "\n",
    "obj = DiscreteCartPole()\n",
    "\n",
    "_, values = obj.discretize(observation)\n",
    "print(observation)\n",
    "print(np.array(values, dtype=np.float32))\n",
    "print(((observation-values)**2)**.5)\n",
    "# env.state = np.array(values, dtype=np.float64)\n",
    "# env.unwrapped.state = np.array(values, dtype=np.float64)\n"
   ]
  },
  {
   "cell_type": "code",
   "execution_count": 11,
   "metadata": {},
   "outputs": [
    {
     "name": "stdout",
     "output_type": "stream",
     "text": [
      "[ 0.1349753   1.3734338  -0.10700627 -1.3932253 ] False\n",
      "[ 0.       1.56427  0.01756 -3.12767]\n",
      "[0.1349753  0.19083617 0.12456627 1.73444469]\n"
     ]
    }
   ],
   "source": [
    "observation,reward, terminated, truncated, info = env.step(1)\n",
    "_, values = obj.discretize(observation)\n",
    "print(observation, terminated)\n",
    "print(np.array(values, dtype=np.float32))\n",
    "print(((observation-values)**2)**.5)\n",
    "# env.state = np.array(values, dtype=np.float64)\n",
    "# env.state = env.unwrapped.state = np.array(values, dtype=np.float64)"
   ]
  },
  {
   "cell_type": "code",
   "execution_count": 36,
   "metadata": {},
   "outputs": [
    {
     "name": "stdout",
     "output_type": "stream",
     "text": [
      "[-0.     1.5    0.105 -1.5  ]\n",
      "[-0.     1.5    0.105 -1.5  ]\n",
      "[ 0.03       1.6937015  0.075     -1.7581388]\n",
      "[-0.     1.5    0.105 -1.5  ]\n"
     ]
    }
   ],
   "source": [
    "print(env.unwrapped.state)\n",
    "print(env.step(1)[0])\n",
    "print(my_step(env.unwrapped.state))\n",
    "print(np.array(obj.discretize(my_step(env.unwrapped.state))[1], dtype=np.float32))"
   ]
  },
  {
   "cell_type": "code",
   "execution_count": 37,
   "metadata": {},
   "outputs": [
    {
     "data": {
      "text/plain": [
       "[array([-0.]),\n",
       " array([-1.5       , -1.18518519, -0.90740741, -0.66666667, -0.46296296,\n",
       "        -0.2962963 , -0.16666667, -0.07407407, -0.01851852, -0.        ,\n",
       "         0.01851852,  0.07407407,  0.16666667,  0.2962963 ,  0.46296296,\n",
       "         0.66666667,  0.90740741,  1.18518519,  1.5       ]),\n",
       " array([-0.21 , -0.105, -0.   ,  0.105,  0.21 ]),\n",
       " array([-1.5       , -1.25707872, -1.02890329, -0.81649658, -0.62112999,\n",
       "        -0.44444444, -0.28867513, -0.15713484, -0.05555556, -0.        ,\n",
       "         0.05555556,  0.15713484,  0.28867513,  0.44444444,  0.62112999,\n",
       "         0.81649658,  1.02890329,  1.25707872,  1.5       ])]"
      ]
     },
     "execution_count": 37,
     "metadata": {},
     "output_type": "execute_result"
    }
   ],
   "source": [
    "obj.factor_spaces"
   ]
  },
  {
   "cell_type": "code",
   "execution_count": 55,
   "metadata": {},
   "outputs": [
    {
     "data": {
      "text/plain": [
       "[5, 4, 3, 2]"
      ]
     },
     "execution_count": 55,
     "metadata": {},
     "output_type": "execute_result"
    }
   ],
   "source": [
    "[1,2,3,4,5][:0:-1]"
   ]
  },
  {
   "cell_type": "code",
   "execution_count": 56,
   "metadata": {},
   "outputs": [
    {
     "data": {
      "text/plain": [
       "[(0, 0, 0, 0, 0, 0, 0, 0, 0, 0, 0),\n",
       " (0, 0, 0, 0, 0, 0, 0, 0, 0, 0, 0),\n",
       " (0, 0, 0, 0, 0, 0, 0, 0, 0, 0, 0),\n",
       " (0, 0, 0, 0, 0, 0, 0, 0, 0, 0, 0)]"
      ]
     },
     "execution_count": 56,
     "metadata": {},
     "output_type": "execute_result"
    }
   ],
   "source": [
    "def teste(n):\n",
    "    values = [[0, 0, 0, 0]]\n",
    "    for i in range((n+1)//2):\n",
    "        values.append(values[-1])\n",
    "    return list(zip(*(values+values[:0:-1])))\n",
    "\n",
    "teste(10)"
   ]
  },
  {
   "cell_type": "code",
   "execution_count": 44,
   "metadata": {},
   "outputs": [
    {
     "data": {
      "text/plain": [
       "array([ 0.        ,  0.19512194,  0.        , -0.29268292], dtype=float32)"
      ]
     },
     "execution_count": 44,
     "metadata": {},
     "output_type": "execute_result"
    }
   ],
   "source": [
    "my_step([0, 0, 0, 0], 1)"
   ]
  },
  {
   "cell_type": "code",
   "execution_count": 5,
   "metadata": {},
   "outputs": [],
   "source": [
    "def my_step(state, action=1):    \n",
    "    gravity = 9.8\n",
    "    masscart = 1.0\n",
    "    masspole = 0.1\n",
    "    total_mass = masspole + masscart\n",
    "    length = 0.5  # actually half the pole's length\n",
    "    polemass_length = masspole * length\n",
    "    force_mag = 10.0\n",
    "    tau = 0.02  # seconds between state updates\n",
    "\n",
    "    x, x_dot, theta, theta_dot = state\n",
    "    force = force_mag if action == 1 else -force_mag\n",
    "    costheta = np.cos(theta)\n",
    "    sintheta = np.sin(theta)\n",
    "\n",
    "    temp = (\n",
    "        force + polemass_length * np.square(theta_dot) * sintheta\n",
    "    ) / total_mass\n",
    "    thetaacc = (gravity * sintheta - costheta * temp) / (\n",
    "        length\n",
    "        * (4.0 / 3.0 - masspole * np.square(costheta) / total_mass)\n",
    "    )\n",
    "    xacc = temp - polemass_length * thetaacc * costheta / total_mass\n",
    "\n",
    "    x = x + tau * x_dot\n",
    "    x_dot = x_dot + tau * xacc\n",
    "    theta = theta + tau * theta_dot\n",
    "    theta_dot = theta_dot + tau * thetaacc\n",
    "\n",
    "\n",
    "    return np.array((x, x_dot, theta, theta_dot), dtype=np.float32)"
   ]
  },
  {
   "cell_type": "code",
   "execution_count": null,
   "metadata": {},
   "outputs": [],
   "source": []
  }
 ],
 "metadata": {
  "kernelspec": {
   "display_name": ".venv",
   "language": "python",
   "name": "python3"
  },
  "language_info": {
   "codemirror_mode": {
    "name": "ipython",
    "version": 3
   },
   "file_extension": ".py",
   "mimetype": "text/x-python",
   "name": "python",
   "nbconvert_exporter": "python",
   "pygments_lexer": "ipython3",
   "version": "3.9.19"
  }
 },
 "nbformat": 4,
 "nbformat_minor": 2
}
